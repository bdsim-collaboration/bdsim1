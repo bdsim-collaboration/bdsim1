{
 "cells": [
  {
   "cell_type": "code",
   "execution_count": null,
   "id": "97341d4d-1bf0-4ff0-973d-d7adda003f59",
   "metadata": {},
   "outputs": [],
   "source": [
    "import pybdsim\n",
    "import numpy as np\n",
    "import matplotlib.pyplot as plt"
   ]
  },
  {
   "cell_type": "code",
   "execution_count": null,
   "id": "4e6526e9-2246-49cd-a78c-f6857559c6d8",
   "metadata": {},
   "outputs": [],
   "source": [
    "phi = 0\n",
    "ei = 1.0\n",
    "ef = 1.01\n",
    "l = 0.1\n",
    "eta = pybdsim.Analysis.CavityBodyEta([0],[1],phi)\n",
    "alpha = pybdsim.Analysis.CavityBodyAlpha(ei,ef,eta,phi)\n",
    "cbm  = pybdsim.Analysis.CavityBodyTransverseMatrix(ei,ef,l,alpha,eta,phi)\n",
    "\n",
    "print(eta,alpha,cbm)\n"
   ]
  },
  {
   "cell_type": "code",
   "execution_count": null,
   "id": "9c98ab6b-a256-4ac9-833a-704b390e550c",
   "metadata": {},
   "outputs": [],
   "source": [
    "def bodyMat(ei = 1.0, ef = 1.05, l=0.1, phi=0) :\n",
    "    eta = pybdsim.Analysis.CavityBodyEta([0],[1],phi)\n",
    "    alpha = pybdsim.Analysis.CavityBodyAlpha(ei,ef,eta,phi)\n",
    "    cbm  = pybdsim.Analysis.CavityBodyTransverseMatrix(ei,ef,l,alpha,eta,phi)\n",
    "    return cbm"
   ]
  },
  {
   "cell_type": "code",
   "execution_count": null,
   "id": "33747430-55d5-4469-a287-f45f8b95f27f",
   "metadata": {},
   "outputs": [],
   "source": [
    "def bdsimMat(energies, files) : \n",
    "    mArray = []\n",
    "    \n",
    "    for e, file in zip(energies, files):\n",
    "        m = pybdsim.Analysis.CalculateRMatrix(file,\"d1\",\"rf1\")\n",
    "        mArray.append(m)\n",
    "\n",
    "    return energies, np.array(mArray)"
   ]
  },
  {
   "cell_type": "code",
   "execution_count": null,
   "id": "a60362b7-a655-4c00-8d06-e1d761d78e4a",
   "metadata": {},
   "outputs": [],
   "source": [
    "efArray = []\n",
    "m11 = []\n",
    "m12 = []\n",
    "m21 = []\n",
    "m22 = []\n",
    "\n",
    "\n",
    "e, bm = bdsimMat([1.002, 1.004, 1.006, 1.008,1.01],\n",
    "                    [\"tm_011_standing_002mev.root\",\n",
    "                     \"tm_011_standing_004mev.root\",\n",
    "                     \"tm_011_standing_006mev.root\",\n",
    "                     \"tm_011_standing_008mev.root\",\n",
    "                     \"tm_011_standing_010mev.root\"])\n",
    "\n",
    "#e, bm = bdsimMat([1.002, 1.004, 1.006, 1.008,1.01],\n",
    "#                    [\"tm_010_standing_002mev.root\",\n",
    "#                     \"tm_010_standing_004mev.root\",\n",
    "#                     \"tm_010_standing_006mev.root\",\n",
    "#                     \"tm_010_standing_008mev.root\",\n",
    "#                     \"tm_010_standing_010mev.root\"])\n",
    "\n",
    "for ef in e :\n",
    "    m = bodyMat(1,ef,0.1,0)\n",
    "    m11.append(m[0,0])\n",
    "    m12.append(m[0,1])\n",
    "    m21.append(m[1,0])\n",
    "    m22.append(m[1,1])\n",
    "    efArray.append(ef)\n",
    "\n",
    "\n",
    "\n",
    "plt.subplot(2,2,1)\n",
    "plt.plot(efArray,m11)\n",
    "plt.plot(e,bm[:,0,0],\"x\")\n",
    "#plt.plot(e,(bm[:,0,0]-m11)/m11*100,\"x\")\n",
    "\n",
    "plt.subplot(2,2,2)\n",
    "plt.plot(efArray,m12)\n",
    "plt.plot(e,bm[:,0,1],\"x\")\n",
    "#plt.plot(e,(bm[:,0,1]-m12)/m12*100,\"x\")\n",
    "\n",
    "plt.subplot(2,2,3)\n",
    "plt.plot(efArray,m21)\n",
    "plt.plot(e,bm[:,1,0],\"x\")\n",
    "#plt.plot(e,(bm[:,1,0]-m21)/m21*100,\"x\")\n",
    "\n",
    "plt.subplot(2,2,4)\n",
    "plt.plot(efArray,m22)\n",
    "plt.plot(e,bm[:,1,1],\"x\")\n",
    "#plt.plot(e,(bm[:,1,1]-m22)/m22*100,\"x\")\n"
   ]
  },
  {
   "cell_type": "code",
   "execution_count": null,
   "id": "2cb12916-4593-49ea-ba92-b4c247fffcef",
   "metadata": {},
   "outputs": [],
   "source": []
  }
 ],
 "metadata": {
  "kernelspec": {
   "display_name": "Python 3 (ipykernel)",
   "language": "python",
   "name": "python3"
  },
  "language_info": {
   "codemirror_mode": {
    "name": "ipython",
    "version": 3
   },
   "file_extension": ".py",
   "mimetype": "text/x-python",
   "name": "python",
   "nbconvert_exporter": "python",
   "pygments_lexer": "ipython3",
   "version": "3.12.3"
  }
 },
 "nbformat": 4,
 "nbformat_minor": 5
}
